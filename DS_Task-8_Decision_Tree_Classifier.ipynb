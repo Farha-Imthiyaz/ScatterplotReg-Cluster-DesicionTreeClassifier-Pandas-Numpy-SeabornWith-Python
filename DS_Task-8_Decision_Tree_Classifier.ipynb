{
 "cells": [
  {
   "cell_type": "code",
   "execution_count": 1,
   "metadata": {},
   "outputs": [],
   "source": [
    "import pandas as pd\n",
    "import numpy as np\n",
    "import pydotplus\n",
    "from sklearn.datasets import load_iris\n",
    "from sklearn import tree"
   ]
  },
  {
   "cell_type": "code",
   "execution_count": 2,
   "metadata": {},
   "outputs": [],
   "source": [
    "dataset = pd.read_csv('energy-use-and-greenhouse-gas-emissions-related-to-federal-facilities-and-fleets-en.csv')"
   ]
  },
  {
   "cell_type": "code",
   "execution_count": 3,
   "metadata": {},
   "outputs": [
    {
     "data": {
      "text/html": [
       "<div>\n",
       "<style scoped>\n",
       "    .dataframe tbody tr th:only-of-type {\n",
       "        vertical-align: middle;\n",
       "    }\n",
       "\n",
       "    .dataframe tbody tr th {\n",
       "        vertical-align: top;\n",
       "    }\n",
       "\n",
       "    .dataframe thead th {\n",
       "        text-align: right;\n",
       "    }\n",
       "</style>\n",
       "<table border=\"1\" class=\"dataframe\">\n",
       "  <thead>\n",
       "    <tr style=\"text-align: right;\">\n",
       "      <th></th>\n",
       "      <th>Federal organization</th>\n",
       "      <th>Fiscal year</th>\n",
       "      <th>GHG source</th>\n",
       "      <th>GHG scope</th>\n",
       "      <th>Energy category</th>\n",
       "      <th>Energy use (GJ)</th>\n",
       "      <th>Emissions (t)</th>\n",
       "    </tr>\n",
       "  </thead>\n",
       "  <tbody>\n",
       "    <tr>\n",
       "      <td>0</td>\n",
       "      <td>Agriculture and Agri-Food Canada</td>\n",
       "      <td>FY 2005-06</td>\n",
       "      <td>facilities</td>\n",
       "      <td>2</td>\n",
       "      <td>electricity</td>\n",
       "      <td>524494.106500</td>\n",
       "      <td>54100.253730</td>\n",
       "    </tr>\n",
       "    <tr>\n",
       "      <td>1</td>\n",
       "      <td>Agriculture and Agri-Food Canada</td>\n",
       "      <td>FY 2005-06</td>\n",
       "      <td>facilities</td>\n",
       "      <td>1</td>\n",
       "      <td>natural gas</td>\n",
       "      <td>446241.301700</td>\n",
       "      <td>22229.480080</td>\n",
       "    </tr>\n",
       "    <tr>\n",
       "      <td>2</td>\n",
       "      <td>Agriculture and Agri-Food Canada</td>\n",
       "      <td>FY 2005-06</td>\n",
       "      <td>facilities</td>\n",
       "      <td>2</td>\n",
       "      <td>district energy</td>\n",
       "      <td>154568.000000</td>\n",
       "      <td>11203.651960</td>\n",
       "    </tr>\n",
       "    <tr>\n",
       "      <td>3</td>\n",
       "      <td>Agriculture and Agri-Food Canada</td>\n",
       "      <td>FY 2005-06</td>\n",
       "      <td>fleets</td>\n",
       "      <td>1</td>\n",
       "      <td>gasoline</td>\n",
       "      <td>73844.057790</td>\n",
       "      <td>4540.532151</td>\n",
       "    </tr>\n",
       "    <tr>\n",
       "      <td>4</td>\n",
       "      <td>Agriculture and Agri-Food Canada</td>\n",
       "      <td>FY 2005-06</td>\n",
       "      <td>facilities</td>\n",
       "      <td>1</td>\n",
       "      <td>fuel oil (1, 2, 4, 5, 6, diesel, kerosene)</td>\n",
       "      <td>59955.495690</td>\n",
       "      <td>4271.967786</td>\n",
       "    </tr>\n",
       "    <tr>\n",
       "      <td>...</td>\n",
       "      <td>...</td>\n",
       "      <td>...</td>\n",
       "      <td>...</td>\n",
       "      <td>...</td>\n",
       "      <td>...</td>\n",
       "      <td>...</td>\n",
       "      <td>...</td>\n",
       "    </tr>\n",
       "    <tr>\n",
       "      <td>938</td>\n",
       "      <td>Transport Canada</td>\n",
       "      <td>FY 2017-18</td>\n",
       "      <td>fleets</td>\n",
       "      <td>1</td>\n",
       "      <td>gasoline</td>\n",
       "      <td>20377.662310</td>\n",
       "      <td>1349.490933</td>\n",
       "    </tr>\n",
       "    <tr>\n",
       "      <td>939</td>\n",
       "      <td>Transport Canada</td>\n",
       "      <td>FY 2017-18</td>\n",
       "      <td>facilities</td>\n",
       "      <td>1</td>\n",
       "      <td>natural gas</td>\n",
       "      <td>18150.421950</td>\n",
       "      <td>903.917757</td>\n",
       "    </tr>\n",
       "    <tr>\n",
       "      <td>940</td>\n",
       "      <td>Transport Canada</td>\n",
       "      <td>FY 2017-18</td>\n",
       "      <td>facilities</td>\n",
       "      <td>2</td>\n",
       "      <td>electricity</td>\n",
       "      <td>89083.257910</td>\n",
       "      <td>802.175774</td>\n",
       "    </tr>\n",
       "    <tr>\n",
       "      <td>941</td>\n",
       "      <td>Transport Canada</td>\n",
       "      <td>FY 2017-18</td>\n",
       "      <td>facilities</td>\n",
       "      <td>1</td>\n",
       "      <td>liquified petroleum gas</td>\n",
       "      <td>2928.253105</td>\n",
       "      <td>178.667635</td>\n",
       "    </tr>\n",
       "    <tr>\n",
       "      <td>942</td>\n",
       "      <td>Transport Canada</td>\n",
       "      <td>FY 2017-18</td>\n",
       "      <td>fleets</td>\n",
       "      <td>1</td>\n",
       "      <td>fuels with renewable content</td>\n",
       "      <td>1888.766343</td>\n",
       "      <td>26.551682</td>\n",
       "    </tr>\n",
       "  </tbody>\n",
       "</table>\n",
       "<p>943 rows × 7 columns</p>\n",
       "</div>"
      ],
      "text/plain": [
       "                 Federal organization Fiscal year  GHG source  GHG scope  \\\n",
       "0    Agriculture and Agri-Food Canada  FY 2005-06  facilities          2   \n",
       "1    Agriculture and Agri-Food Canada  FY 2005-06  facilities          1   \n",
       "2    Agriculture and Agri-Food Canada  FY 2005-06  facilities          2   \n",
       "3    Agriculture and Agri-Food Canada  FY 2005-06      fleets          1   \n",
       "4    Agriculture and Agri-Food Canada  FY 2005-06  facilities          1   \n",
       "..                                ...         ...         ...        ...   \n",
       "938                  Transport Canada  FY 2017-18      fleets          1   \n",
       "939                  Transport Canada  FY 2017-18  facilities          1   \n",
       "940                  Transport Canada  FY 2017-18  facilities          2   \n",
       "941                  Transport Canada  FY 2017-18  facilities          1   \n",
       "942                  Transport Canada  FY 2017-18      fleets          1   \n",
       "\n",
       "                                Energy category  Energy use (GJ)  \\\n",
       "0                                   electricity    524494.106500   \n",
       "1                                   natural gas    446241.301700   \n",
       "2                               district energy    154568.000000   \n",
       "3                                      gasoline     73844.057790   \n",
       "4    fuel oil (1, 2, 4, 5, 6, diesel, kerosene)     59955.495690   \n",
       "..                                          ...              ...   \n",
       "938                                    gasoline     20377.662310   \n",
       "939                                 natural gas     18150.421950   \n",
       "940                                 electricity     89083.257910   \n",
       "941                     liquified petroleum gas      2928.253105   \n",
       "942                fuels with renewable content      1888.766343   \n",
       "\n",
       "     Emissions (t)  \n",
       "0     54100.253730  \n",
       "1     22229.480080  \n",
       "2     11203.651960  \n",
       "3      4540.532151  \n",
       "4      4271.967786  \n",
       "..             ...  \n",
       "938    1349.490933  \n",
       "939     903.917757  \n",
       "940     802.175774  \n",
       "941     178.667635  \n",
       "942      26.551682  \n",
       "\n",
       "[943 rows x 7 columns]"
      ]
     },
     "execution_count": 3,
     "metadata": {},
     "output_type": "execute_result"
    }
   ],
   "source": [
    "dataset"
   ]
  },
  {
   "cell_type": "code",
   "execution_count": 4,
   "metadata": {},
   "outputs": [],
   "source": [
    "x= dataset.iloc[:,[3,5,6]]"
   ]
  },
  {
   "cell_type": "code",
   "execution_count": 5,
   "metadata": {},
   "outputs": [
    {
     "data": {
      "text/html": [
       "<div>\n",
       "<style scoped>\n",
       "    .dataframe tbody tr th:only-of-type {\n",
       "        vertical-align: middle;\n",
       "    }\n",
       "\n",
       "    .dataframe tbody tr th {\n",
       "        vertical-align: top;\n",
       "    }\n",
       "\n",
       "    .dataframe thead th {\n",
       "        text-align: right;\n",
       "    }\n",
       "</style>\n",
       "<table border=\"1\" class=\"dataframe\">\n",
       "  <thead>\n",
       "    <tr style=\"text-align: right;\">\n",
       "      <th></th>\n",
       "      <th>GHG scope</th>\n",
       "      <th>Energy use (GJ)</th>\n",
       "      <th>Emissions (t)</th>\n",
       "    </tr>\n",
       "  </thead>\n",
       "  <tbody>\n",
       "    <tr>\n",
       "      <td>0</td>\n",
       "      <td>2</td>\n",
       "      <td>524494.106500</td>\n",
       "      <td>54100.253730</td>\n",
       "    </tr>\n",
       "    <tr>\n",
       "      <td>1</td>\n",
       "      <td>1</td>\n",
       "      <td>446241.301700</td>\n",
       "      <td>22229.480080</td>\n",
       "    </tr>\n",
       "    <tr>\n",
       "      <td>2</td>\n",
       "      <td>2</td>\n",
       "      <td>154568.000000</td>\n",
       "      <td>11203.651960</td>\n",
       "    </tr>\n",
       "    <tr>\n",
       "      <td>3</td>\n",
       "      <td>1</td>\n",
       "      <td>73844.057790</td>\n",
       "      <td>4540.532151</td>\n",
       "    </tr>\n",
       "    <tr>\n",
       "      <td>4</td>\n",
       "      <td>1</td>\n",
       "      <td>59955.495690</td>\n",
       "      <td>4271.967786</td>\n",
       "    </tr>\n",
       "    <tr>\n",
       "      <td>...</td>\n",
       "      <td>...</td>\n",
       "      <td>...</td>\n",
       "      <td>...</td>\n",
       "    </tr>\n",
       "    <tr>\n",
       "      <td>938</td>\n",
       "      <td>1</td>\n",
       "      <td>20377.662310</td>\n",
       "      <td>1349.490933</td>\n",
       "    </tr>\n",
       "    <tr>\n",
       "      <td>939</td>\n",
       "      <td>1</td>\n",
       "      <td>18150.421950</td>\n",
       "      <td>903.917757</td>\n",
       "    </tr>\n",
       "    <tr>\n",
       "      <td>940</td>\n",
       "      <td>2</td>\n",
       "      <td>89083.257910</td>\n",
       "      <td>802.175774</td>\n",
       "    </tr>\n",
       "    <tr>\n",
       "      <td>941</td>\n",
       "      <td>1</td>\n",
       "      <td>2928.253105</td>\n",
       "      <td>178.667635</td>\n",
       "    </tr>\n",
       "    <tr>\n",
       "      <td>942</td>\n",
       "      <td>1</td>\n",
       "      <td>1888.766343</td>\n",
       "      <td>26.551682</td>\n",
       "    </tr>\n",
       "  </tbody>\n",
       "</table>\n",
       "<p>943 rows × 3 columns</p>\n",
       "</div>"
      ],
      "text/plain": [
       "     GHG scope  Energy use (GJ)  Emissions (t)\n",
       "0            2    524494.106500   54100.253730\n",
       "1            1    446241.301700   22229.480080\n",
       "2            2    154568.000000   11203.651960\n",
       "3            1     73844.057790    4540.532151\n",
       "4            1     59955.495690    4271.967786\n",
       "..         ...              ...            ...\n",
       "938          1     20377.662310    1349.490933\n",
       "939          1     18150.421950     903.917757\n",
       "940          2     89083.257910     802.175774\n",
       "941          1      2928.253105     178.667635\n",
       "942          1      1888.766343      26.551682\n",
       "\n",
       "[943 rows x 3 columns]"
      ]
     },
     "execution_count": 5,
     "metadata": {},
     "output_type": "execute_result"
    }
   ],
   "source": [
    "x"
   ]
  },
  {
   "cell_type": "code",
   "execution_count": 6,
   "metadata": {},
   "outputs": [],
   "source": [
    "from sklearn.preprocessing import LabelEncoder"
   ]
  },
  {
   "cell_type": "code",
   "execution_count": 7,
   "metadata": {},
   "outputs": [],
   "source": [
    "labelencoder_x = LabelEncoder()"
   ]
  },
  {
   "cell_type": "code",
   "execution_count": 8,
   "metadata": {},
   "outputs": [],
   "source": [
    "x = x.apply(LabelEncoder().fit_transform)"
   ]
  },
  {
   "cell_type": "code",
   "execution_count": 9,
   "metadata": {},
   "outputs": [
    {
     "data": {
      "text/html": [
       "<div>\n",
       "<style scoped>\n",
       "    .dataframe tbody tr th:only-of-type {\n",
       "        vertical-align: middle;\n",
       "    }\n",
       "\n",
       "    .dataframe tbody tr th {\n",
       "        vertical-align: top;\n",
       "    }\n",
       "\n",
       "    .dataframe thead th {\n",
       "        text-align: right;\n",
       "    }\n",
       "</style>\n",
       "<table border=\"1\" class=\"dataframe\">\n",
       "  <thead>\n",
       "    <tr style=\"text-align: right;\">\n",
       "      <th></th>\n",
       "      <th>GHG scope</th>\n",
       "      <th>Energy use (GJ)</th>\n",
       "      <th>Emissions (t)</th>\n",
       "    </tr>\n",
       "  </thead>\n",
       "  <tbody>\n",
       "    <tr>\n",
       "      <td>0</td>\n",
       "      <td>1</td>\n",
       "      <td>869</td>\n",
       "      <td>894</td>\n",
       "    </tr>\n",
       "    <tr>\n",
       "      <td>1</td>\n",
       "      <td>0</td>\n",
       "      <td>854</td>\n",
       "      <td>846</td>\n",
       "    </tr>\n",
       "    <tr>\n",
       "      <td>2</td>\n",
       "      <td>1</td>\n",
       "      <td>784</td>\n",
       "      <td>808</td>\n",
       "    </tr>\n",
       "    <tr>\n",
       "      <td>3</td>\n",
       "      <td>0</td>\n",
       "      <td>685</td>\n",
       "      <td>691</td>\n",
       "    </tr>\n",
       "    <tr>\n",
       "      <td>4</td>\n",
       "      <td>0</td>\n",
       "      <td>648</td>\n",
       "      <td>674</td>\n",
       "    </tr>\n",
       "    <tr>\n",
       "      <td>...</td>\n",
       "      <td>...</td>\n",
       "      <td>...</td>\n",
       "      <td>...</td>\n",
       "    </tr>\n",
       "    <tr>\n",
       "      <td>938</td>\n",
       "      <td>0</td>\n",
       "      <td>494</td>\n",
       "      <td>504</td>\n",
       "    </tr>\n",
       "    <tr>\n",
       "      <td>939</td>\n",
       "      <td>0</td>\n",
       "      <td>481</td>\n",
       "      <td>470</td>\n",
       "    </tr>\n",
       "    <tr>\n",
       "      <td>940</td>\n",
       "      <td>1</td>\n",
       "      <td>719</td>\n",
       "      <td>460</td>\n",
       "    </tr>\n",
       "    <tr>\n",
       "      <td>941</td>\n",
       "      <td>0</td>\n",
       "      <td>285</td>\n",
       "      <td>285</td>\n",
       "    </tr>\n",
       "    <tr>\n",
       "      <td>942</td>\n",
       "      <td>0</td>\n",
       "      <td>239</td>\n",
       "      <td>156</td>\n",
       "    </tr>\n",
       "  </tbody>\n",
       "</table>\n",
       "<p>943 rows × 3 columns</p>\n",
       "</div>"
      ],
      "text/plain": [
       "     GHG scope  Energy use (GJ)  Emissions (t)\n",
       "0            1              869            894\n",
       "1            0              854            846\n",
       "2            1              784            808\n",
       "3            0              685            691\n",
       "4            0              648            674\n",
       "..         ...              ...            ...\n",
       "938          0              494            504\n",
       "939          0              481            470\n",
       "940          1              719            460\n",
       "941          0              285            285\n",
       "942          0              239            156\n",
       "\n",
       "[943 rows x 3 columns]"
      ]
     },
     "execution_count": 9,
     "metadata": {},
     "output_type": "execute_result"
    }
   ],
   "source": [
    "x"
   ]
  },
  {
   "cell_type": "code",
   "execution_count": 10,
   "metadata": {},
   "outputs": [],
   "source": [
    "from sklearn.tree import DecisionTreeClassifier"
   ]
  },
  {
   "cell_type": "code",
   "execution_count": 11,
   "metadata": {},
   "outputs": [],
   "source": [
    "regressor = DecisionTreeClassifier()"
   ]
  },
  {
   "cell_type": "code",
   "execution_count": 12,
   "metadata": {},
   "outputs": [],
   "source": [
    "y = dataset.iloc[:,2]"
   ]
  },
  {
   "cell_type": "code",
   "execution_count": 13,
   "metadata": {},
   "outputs": [
    {
     "data": {
      "text/plain": [
       "0      facilities\n",
       "1      facilities\n",
       "2      facilities\n",
       "3          fleets\n",
       "4      facilities\n",
       "          ...    \n",
       "938        fleets\n",
       "939    facilities\n",
       "940    facilities\n",
       "941    facilities\n",
       "942        fleets\n",
       "Name: GHG source, Length: 943, dtype: object"
      ]
     },
     "execution_count": 13,
     "metadata": {},
     "output_type": "execute_result"
    }
   ],
   "source": [
    "y"
   ]
  },
  {
   "cell_type": "code",
   "execution_count": 14,
   "metadata": {},
   "outputs": [
    {
     "data": {
      "text/plain": [
       "DecisionTreeClassifier(class_weight=None, criterion='gini', max_depth=None,\n",
       "                       max_features=None, max_leaf_nodes=None,\n",
       "                       min_impurity_decrease=0.0, min_impurity_split=None,\n",
       "                       min_samples_leaf=1, min_samples_split=2,\n",
       "                       min_weight_fraction_leaf=0.0, presort=False,\n",
       "                       random_state=None, splitter='best')"
      ]
     },
     "execution_count": 14,
     "metadata": {},
     "output_type": "execute_result"
    }
   ],
   "source": [
    "regressor.fit(x.iloc[:,0:3], y)"
   ]
  },
  {
   "cell_type": "code",
   "execution_count": 15,
   "metadata": {},
   "outputs": [],
   "source": [
    "x_in = np.array([0,854,846])"
   ]
  },
  {
   "cell_type": "code",
   "execution_count": 16,
   "metadata": {},
   "outputs": [],
   "source": [
    "y_predict = regressor.predict([x_in])"
   ]
  },
  {
   "cell_type": "code",
   "execution_count": 17,
   "metadata": {},
   "outputs": [
    {
     "data": {
      "text/plain": [
       "array(['facilities'], dtype=object)"
      ]
     },
     "execution_count": 17,
     "metadata": {},
     "output_type": "execute_result"
    }
   ],
   "source": [
    "y_predict"
   ]
  },
  {
   "cell_type": "code",
   "execution_count": 18,
   "metadata": {},
   "outputs": [
    {
     "name": "stderr",
     "output_type": "stream",
     "text": [
      "D:\\Anaconda\\lib\\site-packages\\sklearn\\externals\\six.py:31: DeprecationWarning: The module is deprecated in version 0.21 and will be removed in version 0.23 since we've dropped support for Python 2.7. Please rely on the official version of six (https://pypi.org/project/six/).\n",
      "  \"(https://pypi.org/project/six/).\", DeprecationWarning)\n"
     ]
    }
   ],
   "source": [
    "from sklearn.externals.six import StringIO"
   ]
  },
  {
   "cell_type": "code",
   "execution_count": 19,
   "metadata": {},
   "outputs": [],
   "source": [
    "from IPython.display import Image"
   ]
  },
  {
   "cell_type": "code",
   "execution_count": 20,
   "metadata": {},
   "outputs": [],
   "source": [
    "from sklearn. tree import export_graphviz"
   ]
  },
  {
   "cell_type": "code",
   "execution_count": 21,
   "metadata": {},
   "outputs": [],
   "source": [
    "import pydotplus"
   ]
  },
  {
   "cell_type": "code",
   "execution_count": 22,
   "metadata": {},
   "outputs": [],
   "source": [
    "dot_data = StringIO()"
   ]
  },
  {
   "cell_type": "code",
   "execution_count": 23,
   "metadata": {},
   "outputs": [],
   "source": [
    "export_graphviz(regressor, out_file = dot_data, filled = True, rounded = True, special_characters = True)"
   ]
  },
  {
   "cell_type": "code",
   "execution_count": 24,
   "metadata": {},
   "outputs": [],
   "source": [
    "graph = pydotplus.graph_from_dot_data(dot_data.getvalue())"
   ]
  },
  {
   "cell_type": "code",
   "execution_count": 25,
   "metadata": {},
   "outputs": [
    {
     "data": {
      "text/plain": [
       "True"
      ]
     },
     "execution_count": 25,
     "metadata": {},
     "output_type": "execute_result"
    }
   ],
   "source": [
    "graph.write_png('tree.png')"
   ]
  },
  {
   "cell_type": "code",
   "execution_count": null,
   "metadata": {},
   "outputs": [],
   "source": []
  }
 ],
 "metadata": {
  "kernelspec": {
   "display_name": "Python 3",
   "language": "python",
   "name": "python3"
  },
  "language_info": {
   "codemirror_mode": {
    "name": "ipython",
    "version": 3
   },
   "file_extension": ".py",
   "mimetype": "text/x-python",
   "name": "python",
   "nbconvert_exporter": "python",
   "pygments_lexer": "ipython3",
   "version": "3.7.4"
  }
 },
 "nbformat": 4,
 "nbformat_minor": 2
}
